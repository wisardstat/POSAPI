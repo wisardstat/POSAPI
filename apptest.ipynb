{
 "cells": [
  {
   "cell_type": "code",
   "execution_count": 2,
   "metadata": {},
   "outputs": [
    {
     "name": "stdout",
     "output_type": "stream",
     "text": [
      "Collecting pycrypto==2.5\n",
      "  Downloading pycrypto-2.5.tar.gz (426 kB)\n",
      "     ---------------------------------------- 0.0/426.8 kB ? eta -:--:--\n",
      "     ------------------------------------- 426.8/426.8 kB 26.0 MB/s eta 0:00:00\n",
      "  Preparing metadata (setup.py): started\n",
      "  Preparing metadata (setup.py): finished with status 'done'\n",
      "Installing collected packages: pycrypto\n",
      "  Running setup.py install for pycrypto: started\n",
      "  Running setup.py install for pycrypto: finished with status 'error'\n",
      "Note: you may need to restart the kernel to use updated packages.\n"
     ]
    },
    {
     "name": "stderr",
     "output_type": "stream",
     "text": [
      "  DEPRECATION: pycrypto is being installed using the legacy 'setup.py install' method, because it does not have a 'pyproject.toml' and the 'wheel' package is not installed. pip 23.1 will enforce this behaviour change. A possible replacement is to enable the '--use-pep517' option. Discussion can be found at https://github.com/pypa/pip/issues/8559\n",
      "  error: subprocess-exited-with-error\n",
      "  \n",
      "  × Running setup.py install for pycrypto did not run successfully.\n",
      "  │ exit code: 1\n",
      "  ╰─> [171 lines of output]\n",
      "      running install\n",
      "      d:\\MyProject\\WINPOSZ_ONLINE\\POSAPI\\venv\\lib\\site-packages\\setuptools\\command\\install.py:34: SetuptoolsDeprecationWarning: setup.py install is deprecated. Use build and pip and other standards-based tools.\n",
      "        warnings.warn(\n",
      "      running build\n",
      "      running build_py\n",
      "      creating build\n",
      "      creating build\\lib.win-amd64-cpython-310\n",
      "      creating build\\lib.win-amd64-cpython-310\\Crypto\n",
      "      copying lib\\Crypto\\pct_warnings.py -> build\\lib.win-amd64-cpython-310\\Crypto\n",
      "      copying lib\\Crypto\\__init__.py -> build\\lib.win-amd64-cpython-310\\Crypto\n",
      "      creating build\\lib.win-amd64-cpython-310\\Crypto\\Hash\n",
      "      copying lib\\Crypto\\Hash\\HMAC.py -> build\\lib.win-amd64-cpython-310\\Crypto\\Hash\n",
      "      copying lib\\Crypto\\Hash\\MD2.py -> build\\lib.win-amd64-cpython-310\\Crypto\\Hash\n",
      "      copying lib\\Crypto\\Hash\\MD4.py -> build\\lib.win-amd64-cpython-310\\Crypto\\Hash\n",
      "      copying lib\\Crypto\\Hash\\MD5.py -> build\\lib.win-amd64-cpython-310\\Crypto\\Hash\n",
      "      copying lib\\Crypto\\Hash\\RIPEMD.py -> build\\lib.win-amd64-cpython-310\\Crypto\\Hash\n",
      "      copying lib\\Crypto\\Hash\\SHA.py -> build\\lib.win-amd64-cpython-310\\Crypto\\Hash\n",
      "      copying lib\\Crypto\\Hash\\SHA224.py -> build\\lib.win-amd64-cpython-310\\Crypto\\Hash\n",
      "      copying lib\\Crypto\\Hash\\SHA256.py -> build\\lib.win-amd64-cpython-310\\Crypto\\Hash\n",
      "      copying lib\\Crypto\\Hash\\SHA384.py -> build\\lib.win-amd64-cpython-310\\Crypto\\Hash\n",
      "      copying lib\\Crypto\\Hash\\SHA512.py -> build\\lib.win-amd64-cpython-310\\Crypto\\Hash\n",
      "      copying lib\\Crypto\\Hash\\__init__.py -> build\\lib.win-amd64-cpython-310\\Crypto\\Hash\n",
      "      creating build\\lib.win-amd64-cpython-310\\Crypto\\Cipher\n",
      "      copying lib\\Crypto\\Cipher\\PKCS1_OAEP.py -> build\\lib.win-amd64-cpython-310\\Crypto\\Cipher\n",
      "      copying lib\\Crypto\\Cipher\\PKCS1_v1_5.py -> build\\lib.win-amd64-cpython-310\\Crypto\\Cipher\n",
      "      copying lib\\Crypto\\Cipher\\__init__.py -> build\\lib.win-amd64-cpython-310\\Crypto\\Cipher\n",
      "      creating build\\lib.win-amd64-cpython-310\\Crypto\\Util\n",
      "      copying lib\\Crypto\\Util\\asn1.py -> build\\lib.win-amd64-cpython-310\\Crypto\\Util\n",
      "      copying lib\\Crypto\\Util\\Counter.py -> build\\lib.win-amd64-cpython-310\\Crypto\\Util\n",
      "      copying lib\\Crypto\\Util\\number.py -> build\\lib.win-amd64-cpython-310\\Crypto\\Util\n",
      "      copying lib\\Crypto\\Util\\py3compat.py -> build\\lib.win-amd64-cpython-310\\Crypto\\Util\n",
      "      copying lib\\Crypto\\Util\\randpool.py -> build\\lib.win-amd64-cpython-310\\Crypto\\Util\n",
      "      copying lib\\Crypto\\Util\\RFC1751.py -> build\\lib.win-amd64-cpython-310\\Crypto\\Util\n",
      "      copying lib\\Crypto\\Util\\winrandom.py -> build\\lib.win-amd64-cpython-310\\Crypto\\Util\n",
      "      copying lib\\Crypto\\Util\\wrapper.py -> build\\lib.win-amd64-cpython-310\\Crypto\\Util\n",
      "      copying lib\\Crypto\\Util\\_number_new.py -> build\\lib.win-amd64-cpython-310\\Crypto\\Util\n",
      "      copying lib\\Crypto\\Util\\__init__.py -> build\\lib.win-amd64-cpython-310\\Crypto\\Util\n",
      "      creating build\\lib.win-amd64-cpython-310\\Crypto\\Random\n",
      "      copying lib\\Crypto\\Random\\random.py -> build\\lib.win-amd64-cpython-310\\Crypto\\Random\n",
      "      copying lib\\Crypto\\Random\\_UserFriendlyRNG.py -> build\\lib.win-amd64-cpython-310\\Crypto\\Random\n",
      "      copying lib\\Crypto\\Random\\__init__.py -> build\\lib.win-amd64-cpython-310\\Crypto\\Random\n",
      "      creating build\\lib.win-amd64-cpython-310\\Crypto\\Random\\Fortuna\n",
      "      copying lib\\Crypto\\Random\\Fortuna\\FortunaAccumulator.py -> build\\lib.win-amd64-cpython-310\\Crypto\\Random\\Fortuna\n",
      "      copying lib\\Crypto\\Random\\Fortuna\\FortunaGenerator.py -> build\\lib.win-amd64-cpython-310\\Crypto\\Random\\Fortuna\n",
      "      copying lib\\Crypto\\Random\\Fortuna\\SHAd256.py -> build\\lib.win-amd64-cpython-310\\Crypto\\Random\\Fortuna\n",
      "      copying lib\\Crypto\\Random\\Fortuna\\__init__.py -> build\\lib.win-amd64-cpython-310\\Crypto\\Random\\Fortuna\n",
      "      creating build\\lib.win-amd64-cpython-310\\Crypto\\Random\\OSRNG\n",
      "      copying lib\\Crypto\\Random\\OSRNG\\fallback.py -> build\\lib.win-amd64-cpython-310\\Crypto\\Random\\OSRNG\n",
      "      copying lib\\Crypto\\Random\\OSRNG\\nt.py -> build\\lib.win-amd64-cpython-310\\Crypto\\Random\\OSRNG\n",
      "      copying lib\\Crypto\\Random\\OSRNG\\posix.py -> build\\lib.win-amd64-cpython-310\\Crypto\\Random\\OSRNG\n",
      "      copying lib\\Crypto\\Random\\OSRNG\\rng_base.py -> build\\lib.win-amd64-cpython-310\\Crypto\\Random\\OSRNG\n",
      "      copying lib\\Crypto\\Random\\OSRNG\\__init__.py -> build\\lib.win-amd64-cpython-310\\Crypto\\Random\\OSRNG\n",
      "      creating build\\lib.win-amd64-cpython-310\\Crypto\\SelfTest\n",
      "      copying lib\\Crypto\\SelfTest\\st_common.py -> build\\lib.win-amd64-cpython-310\\Crypto\\SelfTest\n",
      "      copying lib\\Crypto\\SelfTest\\__init__.py -> build\\lib.win-amd64-cpython-310\\Crypto\\SelfTest\n",
      "      creating build\\lib.win-amd64-cpython-310\\Crypto\\SelfTest\\Cipher\n",
      "      copying lib\\Crypto\\SelfTest\\Cipher\\common.py -> build\\lib.win-amd64-cpython-310\\Crypto\\SelfTest\\Cipher\n",
      "      copying lib\\Crypto\\SelfTest\\Cipher\\test_AES.py -> build\\lib.win-amd64-cpython-310\\Crypto\\SelfTest\\Cipher\n",
      "      copying lib\\Crypto\\SelfTest\\Cipher\\test_ARC2.py -> build\\lib.win-amd64-cpython-310\\Crypto\\SelfTest\\Cipher\n",
      "      copying lib\\Crypto\\SelfTest\\Cipher\\test_ARC4.py -> build\\lib.win-amd64-cpython-310\\Crypto\\SelfTest\\Cipher\n",
      "      copying lib\\Crypto\\SelfTest\\Cipher\\test_Blowfish.py -> build\\lib.win-amd64-cpython-310\\Crypto\\SelfTest\\Cipher\n",
      "      copying lib\\Crypto\\SelfTest\\Cipher\\test_CAST.py -> build\\lib.win-amd64-cpython-310\\Crypto\\SelfTest\\Cipher\n",
      "      copying lib\\Crypto\\SelfTest\\Cipher\\test_DES.py -> build\\lib.win-amd64-cpython-310\\Crypto\\SelfTest\\Cipher\n",
      "      copying lib\\Crypto\\SelfTest\\Cipher\\test_DES3.py -> build\\lib.win-amd64-cpython-310\\Crypto\\SelfTest\\Cipher\n",
      "      copying lib\\Crypto\\SelfTest\\Cipher\\test_pkcs1_15.py -> build\\lib.win-amd64-cpython-310\\Crypto\\SelfTest\\Cipher\n",
      "      copying lib\\Crypto\\SelfTest\\Cipher\\test_pkcs1_oaep.py -> build\\lib.win-amd64-cpython-310\\Crypto\\SelfTest\\Cipher\n",
      "      copying lib\\Crypto\\SelfTest\\Cipher\\test_XOR.py -> build\\lib.win-amd64-cpython-310\\Crypto\\SelfTest\\Cipher\n",
      "      copying lib\\Crypto\\SelfTest\\Cipher\\__init__.py -> build\\lib.win-amd64-cpython-310\\Crypto\\SelfTest\\Cipher\n",
      "      creating build\\lib.win-amd64-cpython-310\\Crypto\\SelfTest\\Hash\n",
      "      copying lib\\Crypto\\SelfTest\\Hash\\common.py -> build\\lib.win-amd64-cpython-310\\Crypto\\SelfTest\\Hash\n",
      "      copying lib\\Crypto\\SelfTest\\Hash\\test_HMAC.py -> build\\lib.win-amd64-cpython-310\\Crypto\\SelfTest\\Hash\n",
      "      copying lib\\Crypto\\SelfTest\\Hash\\test_MD2.py -> build\\lib.win-amd64-cpython-310\\Crypto\\SelfTest\\Hash\n",
      "      copying lib\\Crypto\\SelfTest\\Hash\\test_MD4.py -> build\\lib.win-amd64-cpython-310\\Crypto\\SelfTest\\Hash\n",
      "      copying lib\\Crypto\\SelfTest\\Hash\\test_MD5.py -> build\\lib.win-amd64-cpython-310\\Crypto\\SelfTest\\Hash\n",
      "      copying lib\\Crypto\\SelfTest\\Hash\\test_RIPEMD.py -> build\\lib.win-amd64-cpython-310\\Crypto\\SelfTest\\Hash\n",
      "      copying lib\\Crypto\\SelfTest\\Hash\\test_SHA.py -> build\\lib.win-amd64-cpython-310\\Crypto\\SelfTest\\Hash\n",
      "      copying lib\\Crypto\\SelfTest\\Hash\\test_SHA224.py -> build\\lib.win-amd64-cpython-310\\Crypto\\SelfTest\\Hash\n",
      "      copying lib\\Crypto\\SelfTest\\Hash\\test_SHA256.py -> build\\lib.win-amd64-cpython-310\\Crypto\\SelfTest\\Hash\n",
      "      copying lib\\Crypto\\SelfTest\\Hash\\test_SHA384.py -> build\\lib.win-amd64-cpython-310\\Crypto\\SelfTest\\Hash\n",
      "      copying lib\\Crypto\\SelfTest\\Hash\\test_SHA512.py -> build\\lib.win-amd64-cpython-310\\Crypto\\SelfTest\\Hash\n",
      "      copying lib\\Crypto\\SelfTest\\Hash\\__init__.py -> build\\lib.win-amd64-cpython-310\\Crypto\\SelfTest\\Hash\n",
      "      creating build\\lib.win-amd64-cpython-310\\Crypto\\SelfTest\\Protocol\n",
      "      copying lib\\Crypto\\SelfTest\\Protocol\\test_AllOrNothing.py -> build\\lib.win-amd64-cpython-310\\Crypto\\SelfTest\\Protocol\n",
      "      copying lib\\Crypto\\SelfTest\\Protocol\\test_chaffing.py -> build\\lib.win-amd64-cpython-310\\Crypto\\SelfTest\\Protocol\n",
      "      copying lib\\Crypto\\SelfTest\\Protocol\\test_KDF.py -> build\\lib.win-amd64-cpython-310\\Crypto\\SelfTest\\Protocol\n",
      "      copying lib\\Crypto\\SelfTest\\Protocol\\test_rfc1751.py -> build\\lib.win-amd64-cpython-310\\Crypto\\SelfTest\\Protocol\n",
      "      copying lib\\Crypto\\SelfTest\\Protocol\\__init__.py -> build\\lib.win-amd64-cpython-310\\Crypto\\SelfTest\\Protocol\n",
      "      creating build\\lib.win-amd64-cpython-310\\Crypto\\SelfTest\\PublicKey\n",
      "      copying lib\\Crypto\\SelfTest\\PublicKey\\test_DSA.py -> build\\lib.win-amd64-cpython-310\\Crypto\\SelfTest\\PublicKey\n",
      "      copying lib\\Crypto\\SelfTest\\PublicKey\\test_importKey.py -> build\\lib.win-amd64-cpython-310\\Crypto\\SelfTest\\PublicKey\n",
      "      copying lib\\Crypto\\SelfTest\\PublicKey\\test_RSA.py -> build\\lib.win-amd64-cpython-310\\Crypto\\SelfTest\\PublicKey\n",
      "      copying lib\\Crypto\\SelfTest\\PublicKey\\__init__.py -> build\\lib.win-amd64-cpython-310\\Crypto\\SelfTest\\PublicKey\n",
      "      creating build\\lib.win-amd64-cpython-310\\Crypto\\SelfTest\\Random\n",
      "      copying lib\\Crypto\\SelfTest\\Random\\test_random.py -> build\\lib.win-amd64-cpython-310\\Crypto\\SelfTest\\Random\n",
      "      copying lib\\Crypto\\SelfTest\\Random\\test_rpoolcompat.py -> build\\lib.win-amd64-cpython-310\\Crypto\\SelfTest\\Random\n",
      "      copying lib\\Crypto\\SelfTest\\Random\\__init__.py -> build\\lib.win-amd64-cpython-310\\Crypto\\SelfTest\\Random\n",
      "      creating build\\lib.win-amd64-cpython-310\\Crypto\\SelfTest\\Random\\Fortuna\n",
      "      copying lib\\Crypto\\SelfTest\\Random\\Fortuna\\test_FortunaAccumulator.py -> build\\lib.win-amd64-cpython-310\\Crypto\\SelfTest\\Random\\Fortuna\n",
      "      copying lib\\Crypto\\SelfTest\\Random\\Fortuna\\test_FortunaGenerator.py -> build\\lib.win-amd64-cpython-310\\Crypto\\SelfTest\\Random\\Fortuna\n",
      "      copying lib\\Crypto\\SelfTest\\Random\\Fortuna\\test_SHAd256.py -> build\\lib.win-amd64-cpython-310\\Crypto\\SelfTest\\Random\\Fortuna\n",
      "      copying lib\\Crypto\\SelfTest\\Random\\Fortuna\\__init__.py -> build\\lib.win-amd64-cpython-310\\Crypto\\SelfTest\\Random\\Fortuna\n",
      "      creating build\\lib.win-amd64-cpython-310\\Crypto\\SelfTest\\Random\\OSRNG\n",
      "      copying lib\\Crypto\\SelfTest\\Random\\OSRNG\\test_fallback.py -> build\\lib.win-amd64-cpython-310\\Crypto\\SelfTest\\Random\\OSRNG\n",
      "      copying lib\\Crypto\\SelfTest\\Random\\OSRNG\\test_generic.py -> build\\lib.win-amd64-cpython-310\\Crypto\\SelfTest\\Random\\OSRNG\n",
      "      copying lib\\Crypto\\SelfTest\\Random\\OSRNG\\test_nt.py -> build\\lib.win-amd64-cpython-310\\Crypto\\SelfTest\\Random\\OSRNG\n",
      "      copying lib\\Crypto\\SelfTest\\Random\\OSRNG\\test_posix.py -> build\\lib.win-amd64-cpython-310\\Crypto\\SelfTest\\Random\\OSRNG\n",
      "      copying lib\\Crypto\\SelfTest\\Random\\OSRNG\\test_winrandom.py -> build\\lib.win-amd64-cpython-310\\Crypto\\SelfTest\\Random\\OSRNG\n",
      "      copying lib\\Crypto\\SelfTest\\Random\\OSRNG\\__init__.py -> build\\lib.win-amd64-cpython-310\\Crypto\\SelfTest\\Random\\OSRNG\n",
      "      creating build\\lib.win-amd64-cpython-310\\Crypto\\SelfTest\\Util\n",
      "      copying lib\\Crypto\\SelfTest\\Util\\test_asn1.py -> build\\lib.win-amd64-cpython-310\\Crypto\\SelfTest\\Util\n",
      "      copying lib\\Crypto\\SelfTest\\Util\\test_Counter.py -> build\\lib.win-amd64-cpython-310\\Crypto\\SelfTest\\Util\n",
      "      copying lib\\Crypto\\SelfTest\\Util\\test_number.py -> build\\lib.win-amd64-cpython-310\\Crypto\\SelfTest\\Util\n",
      "      copying lib\\Crypto\\SelfTest\\Util\\test_winrandom.py -> build\\lib.win-amd64-cpython-310\\Crypto\\SelfTest\\Util\n",
      "      copying lib\\Crypto\\SelfTest\\Util\\__init__.py -> build\\lib.win-amd64-cpython-310\\Crypto\\SelfTest\\Util\n",
      "      creating build\\lib.win-amd64-cpython-310\\Crypto\\SelfTest\\Signature\n",
      "      copying lib\\Crypto\\SelfTest\\Signature\\test_pkcs1_15.py -> build\\lib.win-amd64-cpython-310\\Crypto\\SelfTest\\Signature\n",
      "      copying lib\\Crypto\\SelfTest\\Signature\\test_pkcs1_pss.py -> build\\lib.win-amd64-cpython-310\\Crypto\\SelfTest\\Signature\n",
      "      copying lib\\Crypto\\SelfTest\\Signature\\__init__.py -> build\\lib.win-amd64-cpython-310\\Crypto\\SelfTest\\Signature\n",
      "      creating build\\lib.win-amd64-cpython-310\\Crypto\\Protocol\n",
      "      copying lib\\Crypto\\Protocol\\AllOrNothing.py -> build\\lib.win-amd64-cpython-310\\Crypto\\Protocol\n",
      "      copying lib\\Crypto\\Protocol\\Chaffing.py -> build\\lib.win-amd64-cpython-310\\Crypto\\Protocol\n",
      "      copying lib\\Crypto\\Protocol\\KDF.py -> build\\lib.win-amd64-cpython-310\\Crypto\\Protocol\n",
      "      copying lib\\Crypto\\Protocol\\__init__.py -> build\\lib.win-amd64-cpython-310\\Crypto\\Protocol\n",
      "      creating build\\lib.win-amd64-cpython-310\\Crypto\\PublicKey\n",
      "      copying lib\\Crypto\\PublicKey\\DSA.py -> build\\lib.win-amd64-cpython-310\\Crypto\\PublicKey\n",
      "      copying lib\\Crypto\\PublicKey\\ElGamal.py -> build\\lib.win-amd64-cpython-310\\Crypto\\PublicKey\n",
      "      copying lib\\Crypto\\PublicKey\\pubkey.py -> build\\lib.win-amd64-cpython-310\\Crypto\\PublicKey\n",
      "      copying lib\\Crypto\\PublicKey\\qNEW.py -> build\\lib.win-amd64-cpython-310\\Crypto\\PublicKey\n",
      "      copying lib\\Crypto\\PublicKey\\RSA.py -> build\\lib.win-amd64-cpython-310\\Crypto\\PublicKey\n",
      "      copying lib\\Crypto\\PublicKey\\_DSA.py -> build\\lib.win-amd64-cpython-310\\Crypto\\PublicKey\n",
      "      copying lib\\Crypto\\PublicKey\\_RSA.py -> build\\lib.win-amd64-cpython-310\\Crypto\\PublicKey\n",
      "      copying lib\\Crypto\\PublicKey\\_slowmath.py -> build\\lib.win-amd64-cpython-310\\Crypto\\PublicKey\n",
      "      copying lib\\Crypto\\PublicKey\\__init__.py -> build\\lib.win-amd64-cpython-310\\Crypto\\PublicKey\n",
      "      creating build\\lib.win-amd64-cpython-310\\Crypto\\Signature\n",
      "      copying lib\\Crypto\\Signature\\PKCS1_PSS.py -> build\\lib.win-amd64-cpython-310\\Crypto\\Signature\n",
      "      copying lib\\Crypto\\Signature\\PKCS1_v1_5.py -> build\\lib.win-amd64-cpython-310\\Crypto\\Signature\n",
      "      copying lib\\Crypto\\Signature\\__init__.py -> build\\lib.win-amd64-cpython-310\\Crypto\\Signature\n",
      "      running build_ext\n",
      "      warning: GMP or MPIR library not found; Not building Crypto.PublicKey._fastmath.\n",
      "      building 'Crypto.Random.OSRNG.winrandom' extension\n",
      "      creating build\\temp.win-amd64-cpython-310\n",
      "      creating build\\temp.win-amd64-cpython-310\\Release\n",
      "      creating build\\temp.win-amd64-cpython-310\\Release\\src\n",
      "      \"C:\\Program Files (x86)\\Microsoft Visual Studio\\2019\\BuildTools\\VC\\Tools\\MSVC\\14.29.30133\\bin\\HostX86\\x64\\cl.exe\" /c /nologo /O2 /W3 /GL /DNDEBUG /MD -Isrc/ -Isrc/inc-msvc/ -Id:\\MyProject\\WINPOSZ_ONLINE\\POSAPI\\venv\\include \"-IC:\\Program Files\\Python310\\include\" \"-IC:\\Program Files\\Python310\\Include\" \"-IC:\\Program Files (x86)\\Microsoft Visual Studio\\2019\\BuildTools\\VC\\Tools\\MSVC\\14.29.30133\\include\" \"-IC:\\Program Files (x86)\\Windows Kits\\NETFXSDK\\4.8\\include\\um\" \"-IC:\\Program Files (x86)\\Windows Kits\\10\\include\\10.0.19041.0\\ucrt\" \"-IC:\\Program Files (x86)\\Windows Kits\\10\\include\\10.0.19041.0\\shared\" \"-IC:\\Program Files (x86)\\Windows Kits\\10\\include\\10.0.19041.0\\um\" \"-IC:\\Program Files (x86)\\Windows Kits\\10\\include\\10.0.19041.0\\winrt\" \"-IC:\\Program Files (x86)\\Windows Kits\\10\\include\\10.0.19041.0\\cppwinrt\" /Tcsrc/winrand.c /Fobuild\\temp.win-amd64-cpython-310\\Release\\src/winrand.obj\n",
      "      winrand.c\n",
      "      C:\\Program Files (x86)\\Windows Kits\\10\\include\\10.0.19041.0\\ucrt\\inttypes.h(31): error C2061: syntax error: identifier 'intmax_t'\n",
      "      C:\\Program Files (x86)\\Windows Kits\\10\\include\\10.0.19041.0\\ucrt\\inttypes.h(32): error C2061: syntax error: identifier 'rem'\n",
      "      C:\\Program Files (x86)\\Windows Kits\\10\\include\\10.0.19041.0\\ucrt\\inttypes.h(32): error C2059: syntax error: ';'\n",
      "      C:\\Program Files (x86)\\Windows Kits\\10\\include\\10.0.19041.0\\ucrt\\inttypes.h(33): error C2059: syntax error: '}'\n",
      "      C:\\Program Files (x86)\\Windows Kits\\10\\include\\10.0.19041.0\\ucrt\\inttypes.h(35): error C2061: syntax error: identifier 'imaxdiv_t'\n",
      "      C:\\Program Files (x86)\\Windows Kits\\10\\include\\10.0.19041.0\\ucrt\\inttypes.h(35): error C2059: syntax error: ';'\n",
      "      C:\\Program Files (x86)\\Windows Kits\\10\\include\\10.0.19041.0\\ucrt\\inttypes.h(45): error C2143: syntax error: missing '{' before '__cdecl'\n",
      "      C:\\Program Files (x86)\\Windows Kits\\10\\include\\10.0.19041.0\\ucrt\\inttypes.h(46): error C2146: syntax error: missing ')' before identifier '_Number'\n",
      "      C:\\Program Files (x86)\\Windows Kits\\10\\include\\10.0.19041.0\\ucrt\\inttypes.h(46): error C2061: syntax error: identifier '_Number'\n",
      "      C:\\Program Files (x86)\\Windows Kits\\10\\include\\10.0.19041.0\\ucrt\\inttypes.h(46): error C2059: syntax error: ';'\n",
      "      C:\\Program Files (x86)\\Windows Kits\\10\\include\\10.0.19041.0\\ucrt\\inttypes.h(47): error C2059: syntax error: ')'\n",
      "      C:\\Program Files (x86)\\Windows Kits\\10\\include\\10.0.19041.0\\ucrt\\inttypes.h(50): error C2143: syntax error: missing '{' before '__cdecl'\n",
      "      C:\\Program Files (x86)\\Windows Kits\\10\\include\\10.0.19041.0\\ucrt\\inttypes.h(51): error C2146: syntax error: missing ')' before identifier '_Numerator'\n",
      "      C:\\Program Files (x86)\\Windows Kits\\10\\include\\10.0.19041.0\\ucrt\\inttypes.h(51): error C2061: syntax error: identifier '_Numerator'\n",
      "      C:\\Program Files (x86)\\Windows Kits\\10\\include\\10.0.19041.0\\ucrt\\inttypes.h(51): error C2059: syntax error: ';'\n",
      "      C:\\Program Files (x86)\\Windows Kits\\10\\include\\10.0.19041.0\\ucrt\\inttypes.h(51): error C2059: syntax error: ','\n",
      "      C:\\Program Files (x86)\\Windows Kits\\10\\include\\10.0.19041.0\\ucrt\\inttypes.h(53): error C2059: syntax error: ')'\n",
      "      C:\\Program Files (x86)\\Windows Kits\\10\\include\\10.0.19041.0\\ucrt\\inttypes.h(55): error C2143: syntax error: missing '{' before '__cdecl'\n",
      "      C:\\Program Files (x86)\\Windows Kits\\10\\include\\10.0.19041.0\\ucrt\\inttypes.h(61): error C2143: syntax error: missing '{' before '__cdecl'\n",
      "      C:\\Program Files (x86)\\Windows Kits\\10\\include\\10.0.19041.0\\ucrt\\inttypes.h(68): error C2143: syntax error: missing '{' before '__cdecl'\n",
      "      C:\\Program Files (x86)\\Windows Kits\\10\\include\\10.0.19041.0\\ucrt\\inttypes.h(74): error C2143: syntax error: missing '{' before '__cdecl'\n",
      "      C:\\Program Files (x86)\\Windows Kits\\10\\include\\10.0.19041.0\\ucrt\\inttypes.h(81): error C2143: syntax error: missing '{' before '__cdecl'\n",
      "      C:\\Program Files (x86)\\Windows Kits\\10\\include\\10.0.19041.0\\ucrt\\inttypes.h(87): error C2143: syntax error: missing '{' before '__cdecl'\n",
      "      C:\\Program Files (x86)\\Windows Kits\\10\\include\\10.0.19041.0\\ucrt\\inttypes.h(94): error C2143: syntax error: missing '{' before '__cdecl'\n",
      "      C:\\Program Files (x86)\\Windows Kits\\10\\include\\10.0.19041.0\\ucrt\\inttypes.h(100): error C2143: syntax error: missing '{' before '__cdecl'\n",
      "      error: command 'C:\\\\Program Files (x86)\\\\Microsoft Visual Studio\\\\2019\\\\BuildTools\\\\VC\\\\Tools\\\\MSVC\\\\14.29.30133\\\\bin\\\\HostX86\\\\x64\\\\cl.exe' failed with exit code 2\n",
      "      [end of output]\n",
      "  \n",
      "  note: This error originates from a subprocess, and is likely not a problem with pip.\n",
      "error: legacy-install-failure\n",
      "\n",
      "× Encountered error while trying to install package.\n",
      "╰─> pycrypto\n",
      "\n",
      "note: This is an issue with the package mentioned above, not pip.\n",
      "hint: See above for output from the failure.\n",
      "\n",
      "[notice] A new release of pip is available: 23.0.1 -> 24.0\n",
      "[notice] To update, run: python.exe -m pip install --upgrade pip\n"
     ]
    }
   ],
   "source": [
    "pip install pycrypto==2.5"
   ]
  },
  {
   "cell_type": "code",
   "execution_count": 5,
   "metadata": {},
   "outputs": [
    {
     "name": "stdout",
     "output_type": "stream",
     "text": [
      "Requirement already satisfied: pycryptodome in d:\\myproject\\winposz_online\\posapi\\venv\\lib\\site-packages (3.20.0)\n",
      "Note: you may need to restart the kernel to use updated packages.\n"
     ]
    }
   ],
   "source": [
    "pip install pycryptodome\n"
   ]
  },
  {
   "cell_type": "code",
   "execution_count": 3,
   "metadata": {},
   "outputs": [],
   "source": [
    "from Crypto.Cipher import AES\n",
    "from Crypto.Util.Padding import unpad\n",
    "import base64\n"
   ]
  },
  {
   "cell_type": "code",
   "execution_count": 3,
   "metadata": {},
   "outputs": [],
   "source": [
    "test_enc = \"bLdmGA+HLLyFEVtBEuCzVg==\"\n",
    "enc = base64.b64decode(test_enc)\n",
    "\n",
    "derived_key = base64.b64decode(\"U2FsdGVkX18utYHbOu8MDZD86KiYm1a2CAAsVESRmsQ=\")\n",
    "iv = \"1020304050607080\"\n",
    "\n",
    "privateKey = \"A123\";"
   ]
  },
  {
   "cell_type": "code",
   "execution_count": null,
   "metadata": {},
   "outputs": [],
   "source": [
    "# const payload = \"hello\"\n",
    "# var derived_key = CryptoJS.enc.Base64.parse(\"LefjQ2pEXmiy/nNZvEJ43i8hJuaAnzbA1Cbn1hOuAgA=\")\n",
    "# var iv = CryptoJS.enc.Utf8.parse(\"1020304050607080\");\n",
    "# var test = CryptoJS.AES.encrypt(payload, derived_key, {iv: iv, mode: CryptoJS.mode.CBC}).toString();\n",
    "# document.getElementById(\"ct\").innerHTML = test; // bLdmGA+HLLyFEVtBEuCzVg=="
   ]
  },
  {
   "cell_type": "code",
   "execution_count": 9,
   "metadata": {},
   "outputs": [
    {
     "name": "stdout",
     "output_type": "stream",
     "text": [
      "b'hello'\n"
     ]
    }
   ],
   "source": [
    "from Crypto.Cipher import AES\n",
    "from Crypto.Util.Padding import unpad\n",
    "import base64\n",
    "\n",
    "test_enc = \"bLdmGA+HLLyFEVtBEuCzVg==\"\n",
    "enc = base64.b64decode(test_enc)\n",
    "\n",
    "derived_key = base64.b64decode(\"LefjQ2pEXmiy/nNZvEJ43i8hJuaAnzbA1Cbn1hOuAgA=\")\n",
    "iv = \"1020304050607080\"\n",
    "\n",
    "cipher = AES.new(derived_key, AES.MODE_CBC, iv.encode('utf-8'))\n",
    "print(unpad(cipher.decrypt(enc),16)) # b'hello'"
   ]
  },
  {
   "cell_type": "code",
   "execution_count": 12,
   "metadata": {},
   "outputs": [
    {
     "name": "stdout",
     "output_type": "stream",
     "text": [
      "16\n",
      "16\n",
      "www.sanook.com\n"
     ]
    }
   ],
   "source": [
    "enc = \"1sq3TSJUxvVoF0UguoZikg==\"\n",
    "key = \"AAAAAAAAAAAAAAAA\"\n",
    "iv =  'BBBBBBBBBBBBBBBB'.encode('utf-8') #16 char for AES128\n",
    "print(len(key))\n",
    "print(len(iv))\n",
    "\n",
    "enc = base64.b64decode(enc)\n",
    "cipher = AES.new(key.encode('utf-8'), AES.MODE_CBC, iv)\n",
    "result = unpad(cipher.decrypt(enc),16).decode('utf-8')\n",
    " \n",
    "print( result  )\n"
   ]
  },
  {
   "cell_type": "code",
   "execution_count": 15,
   "metadata": {},
   "outputs": [
    {
     "name": "stdout",
     "output_type": "stream",
     "text": [
      "16\n",
      "16\n",
      "wds6597\n"
     ]
    }
   ],
   "source": [
    "enc = \"20jum4DeLx1rDmHFu6n6mQ==\"\n",
    "key = \"d2dpos@topgunner\"\n",
    "iv0 =  'd2d@linkin#park!'  #16 char for AES128\n",
    "iv =  iv0.encode('utf-8') #16 char for AES128\n",
    "print(len(key))\n",
    "print(len(iv))\n",
    "\n",
    "enc = base64.b64decode(enc)\n",
    "cipher = AES.new(key.encode('utf-8'), AES.MODE_CBC, iv)\n",
    "result = unpad(cipher.decrypt(enc),16).decode('utf-8')\n",
    " \n",
    "print( result  )\n",
    "\n"
   ]
  }
 ],
 "metadata": {
  "kernelspec": {
   "display_name": "venv",
   "language": "python",
   "name": "python3"
  },
  "language_info": {
   "codemirror_mode": {
    "name": "ipython",
    "version": 3
   },
   "file_extension": ".py",
   "mimetype": "text/x-python",
   "name": "python",
   "nbconvert_exporter": "python",
   "pygments_lexer": "ipython3",
   "version": "3.10.11"
  }
 },
 "nbformat": 4,
 "nbformat_minor": 2
}
