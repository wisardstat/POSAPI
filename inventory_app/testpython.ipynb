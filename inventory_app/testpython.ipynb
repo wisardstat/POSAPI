{
 "cells": [
  {
   "cell_type": "code",
   "execution_count": 4,
   "metadata": {},
   "outputs": [
    {
     "name": "stdout",
     "output_type": "stream",
     "text": [
      "2024-04-06 14:34:58\n",
      "2024-04-06 00:00:00\n"
     ]
    }
   ],
   "source": [
    "from datetime import datetime\n",
    "\n",
    "now = datetime.now()\n",
    "date_now = now.replace(hour=0, minute=0, second=0, microsecond=0)\n",
    "\n",
    "formatted_date_in = now.strftime(\"%Y-%m-%d %H:%M:%S\")\n",
    "formatted_doc_date = date_now.strftime(\"%Y-%m-%d %H:%M:%S\")\n",
    "\n",
    "print(formatted_date_in)\n",
    "print(formatted_doc_date)"
   ]
  }
 ],
 "metadata": {
  "kernelspec": {
   "display_name": "venv",
   "language": "python",
   "name": "python3"
  },
  "language_info": {
   "codemirror_mode": {
    "name": "ipython",
    "version": 3
   },
   "file_extension": ".py",
   "mimetype": "text/x-python",
   "name": "python",
   "nbconvert_exporter": "python",
   "pygments_lexer": "ipython3",
   "version": "3.10.11"
  }
 },
 "nbformat": 4,
 "nbformat_minor": 2
}
